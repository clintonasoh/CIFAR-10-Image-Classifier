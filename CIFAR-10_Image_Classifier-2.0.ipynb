{
 "cells": [
  {
   "cell_type": "markdown",
   "metadata": {},
   "source": [
    "# Introduction\n",
    "\n",
    "In this project, you will build a neural network of your own design to evaluate the CIFAR-10 dataset.\n",
    "\n",
    "To meet the requirements for this project, you will need to achieve an accuracy greater than 45%. \n",
    "If you want to beat Detectocorp's algorithm, you'll need to achieve an accuracy greater than 70%. \n",
    "(Beating Detectocorp's algorithm is not a requirement for passing this project, but you're encouraged to try!)\n",
    "\n",
    "Some of the benchmark results on CIFAR-10 include:\n",
    "\n",
    "78.9% Accuracy | [Deep Belief Networks; Krizhevsky, 2010](https://www.cs.toronto.edu/~kriz/conv-cifar10-aug2010.pdf)\n",
    "\n",
    "90.6% Accuracy | [Maxout Networks; Goodfellow et al., 2013](https://arxiv.org/pdf/1302.4389.pdf)\n",
    "\n",
    "96.0% Accuracy | [Wide Residual Networks; Zagoruyko et al., 2016](https://arxiv.org/pdf/1605.07146.pdf)\n",
    "\n",
    "99.0% Accuracy | [GPipe; Huang et al., 2018](https://arxiv.org/pdf/1811.06965.pdf)\n",
    "\n",
    "98.5% Accuracy | [Rethinking Recurrent Neural Networks and other Improvements for ImageClassification; Nguyen et al., 2020](https://arxiv.org/pdf/2007.15161.pdf)\n",
    "\n",
    "Research with this dataset is ongoing. Notably, many of these networks are quite large and quite expensive to train. \n",
    "\n",
    "## Imports"
   ]
  },
  {
   "cell_type": "code",
   "execution_count": 11,
   "metadata": {},
   "outputs": [],
   "source": [
    "## This cell contains the essential imports you will need – DO NOT CHANGE THE CONTENTS! ##\n",
    "import torch\n",
    "import torch.nn as nn\n",
    "import torch.nn.functional as F\n",
    "import torch.optim as optim\n",
    "import torchvision\n",
    "import torchvision.transforms as transforms\n",
    "import matplotlib.pyplot as plt\n",
    "import numpy as np\n",
    "import time\n"
   ]
  },
  {
   "cell_type": "markdown",
   "metadata": {},
   "source": [
    "## Load the Dataset\n",
    "\n",
    "Specify your transforms as a list first.\n",
    "The transforms module is already loaded as `transforms`.\n",
    "\n",
    "CIFAR-10 is fortunately included in the torchvision module.\n",
    "Then, you can create your dataset using the `CIFAR10` object from `torchvision.datasets` ([the documentation is available here](https://pytorch.org/docs/stable/torchvision/datasets.html#cifar)).\n",
    "Make sure to specify `download=True`! \n",
    "\n",
    "Once your dataset is created, you'll also need to define a `DataLoader` from the `torch.utils.data` module for both the train and the test set."
   ]
  },
  {
   "cell_type": "code",
   "execution_count": 12,
   "metadata": {},
   "outputs": [
    {
     "name": "stdout",
     "output_type": "stream",
     "text": [
      "Files already downloaded and verified\n",
      "Files already downloaded and verified\n"
     ]
    }
   ],
   "source": [
    "# Define transforms\n",
    "## YOUR CODE HERE ##\n",
    "transform = transforms.Compose(\n",
    "    [transforms.ToTensor(),\n",
    "     transforms.RandomResizedCrop(32),\n",
    "     transforms.Normalize((0.5, 0.5, 0.5), (0.5, 0.5, 0.5))])\n",
    "\n",
    "\n",
    "# Create training set and define training dataloader\n",
    "## YOUR CODE HERE ##\n",
    "    \n",
    "batch_size = 256\n",
    "trainset = torchvision.datasets.CIFAR10(root='./data', train=True,\n",
    "                                        download=True, transform=transform)\n",
    "trainloader = torch.utils.data.DataLoader(trainset, batch_size=batch_size,\n",
    "                                          shuffle=True, num_workers=2)\n",
    "\n",
    "# Create test set and define test dataloader\n",
    "## YOUR CODE HERE ##\n",
    "testset = torchvision.datasets.CIFAR10(root='./data', train=False,\n",
    "                                       download=True, transform=transform)\n",
    "testloader = torch.utils.data.DataLoader(testset, batch_size=batch_size,\n",
    "                                         shuffle=False, num_workers=2)\n",
    "\n",
    "\n",
    "# The 10 classes in the dataset\n",
    "classes = ('plane', 'car', 'bird', 'cat', 'deer', 'dog', 'frog', 'horse', 'ship', 'truck')\n"
   ]
  },
  {
   "cell_type": "markdown",
   "metadata": {},
   "source": [
    "## Explore the Dataset\n",
    "Using matplotlib, numpy, and torch, explore the dimensions of your data.\n",
    "\n",
    "You can view images using the `show5` function defined below – it takes a data loader as an argument.\n",
    "Remember that normalized images will look really weird to you! You may want to try changing your transforms to view images.\n",
    "Typically using no transforms other than `toTensor()` works well for viewing – but not as well for training your network.\n",
    "If `show5` doesn't work, go back and check your code for creating your data loaders and your training/test sets."
   ]
  },
  {
   "cell_type": "code",
   "execution_count": 7,
   "metadata": {},
   "outputs": [],
   "source": [
    "def show5(img_loader):\n",
    "    dataiter = iter(img_loader)\n",
    "    \n",
    "    batch = next(dataiter)\n",
    "    labels = batch[1][0:5]\n",
    "    images = batch[0][0:5]\n",
    "    for i in range(5):\n",
    "        print(classes[labels[i]])\n",
    "    \n",
    "        image = images[i].numpy()\n",
    "        plt.imshow(np.rot90(image.T, k=3))\n",
    "        plt.show()"
   ]
  },
  {
   "cell_type": "code",
   "execution_count": 8,
   "metadata": {},
   "outputs": [
    {
     "name": "stderr",
     "output_type": "stream",
     "text": [
      "Clipping input data to the valid range for imshow with RGB data ([0..1] for floats or [0..255] for integers).\n"
     ]
    },
    {
     "name": "stdout",
     "output_type": "stream",
     "text": [
      "truck\n"
     ]
    },
    {
     "data": {
      "image/png": "[encoded data removed]",
      "text/plain": [
       "<Figure size 432x288 with 1 Axes>"
      ]
     },
     "metadata": {
      "needs_background": "light"
     },
     "output_type": "display_data"
    },
    {
     "name": "stderr",
     "output_type": "stream",
     "text": [
      "Clipping input data to the valid range for imshow with RGB data ([0..1] for floats or [0..255] for integers).\n"
     ]
    },
    {
     "name": "stdout",
     "output_type": "stream",
     "text": [
      "dog\n"
     ]
    },
    {
     "data": {
      "image/png": "[encoded data removed]",
      "text/plain": [
       "<Figure size 432x288 with 1 Axes>"
      ]
     },
     "metadata": {
      "needs_background": "light"
     },
     "output_type": "display_data"
    },
    {
     "name": "stderr",
     "output_type": "stream",
     "text": [
      "Clipping input data to the valid range for imshow with RGB data ([0..1] for floats or [0..255] for integers).\n"
     ]
    },
    {
     "name": "stdout",
     "output_type": "stream",
     "text": [
      "car\n"
     ]
    },
    {
     "data": {
      "image/png": "[encoded data removed]",
      "text/plain": [
       "<Figure size 432x288 with 1 Axes>"
      ]
     },
     "metadata": {
      "needs_background": "light"
     },
     "output_type": "display_data"
    },
    {
     "name": "stderr",
     "output_type": "stream",
     "text": [
      "Clipping input data to the valid range for imshow with RGB data ([0..1] for floats or [0..255] for integers).\n"
     ]
    },
    {
     "name": "stdout",
     "output_type": "stream",
     "text": [
      "deer\n"
     ]
    },
    {
     "data": {
      "image/png": "[encoded data removed]",
      "text/plain": [
       "<Figure size 432x288 with 1 Axes>"
      ]
     },
     "metadata": {
      "needs_background": "light"
     },
     "output_type": "display_data"
    },
    {
     "name": "stderr",
     "output_type": "stream",
     "text": [
      "Clipping input data to the valid range for imshow with RGB data ([0..1] for floats or [0..255] for integers).\n"
     ]
    },
    {
     "name": "stdout",
     "output_type": "stream",
     "text": [
      "ship\n"
     ]
    },
    {
     "data": {
      "image/png": "[encoded data removed]",
      "text/plain": [
       "<Figure size 432x288 with 1 Axes>"
      ]
     },
     "metadata": {
      "needs_background": "light"
     },
     "output_type": "display_data"
    }
   ],
   "source": [
    "# Explore data\n",
    "## YOUR CODE HERE ##\n",
    "\n",
    "show5(trainloader)"
   ]
  },
  {
   "cell_type": "code",
   "execution_count": 5,
   "metadata": {},
   "outputs": [
    {
     "data": {
      "text/plain": [
       "50000"
      ]
     },
     "execution_count": 5,
     "metadata": {},
     "output_type": "execute_result"
    }
   ],
   "source": [
    "dataset_size = len(trainset)\n",
    "dataset_size"
   ]
  },
  {
   "cell_type": "code",
   "execution_count": 6,
   "metadata": {},
   "outputs": [
    {
     "data": {
      "text/plain": [
       "10000"
      ]
     },
     "execution_count": 6,
     "metadata": {},
     "output_type": "execute_result"
    }
   ],
   "source": [
    "testset_size = len(testset)\n",
    "testset_size"
   ]
  },
  {
   "cell_type": "code",
   "execution_count": 7,
   "metadata": {},
   "outputs": [
    {
     "data": {
      "text/plain": [
       "torch.Size([3, 32, 32])"
      ]
     },
     "execution_count": 7,
     "metadata": {},
     "output_type": "execute_result"
    }
   ],
   "source": [
    "img, label = trainset[0]\n",
    "img_shape = img.shape\n",
    "img_shape"
   ]
  },
  {
   "cell_type": "code",
   "execution_count": 9,
   "metadata": {},
   "outputs": [
    {
     "name": "stderr",
     "output_type": "stream",
     "text": [
      "Clipping input data to the valid range for imshow with RGB data ([0..1] for floats or [0..255] for integers).\n"
     ]
    },
    {
     "name": "stdout",
     "output_type": "stream",
     "text": [
      "Numeric label : 3\n",
      "Textual label : cat\n"
     ]
    },
    {
     "data": {
      "image/png": "[encoded data removed]",
      "text/plain": [
       "<Figure size 432x288 with 1 Axes>"
      ]
     },
     "metadata": {
      "needs_background": "light"
     },
     "output_type": "display_data"
    }
   ],
   "source": [
    "# print the label for the first test image.\n",
    "img, label = testset[0]\n",
    "plt.imshow(img.permute(1, 2, 0))\n",
    "print('Numeric label :', label)\n",
    "print('Textual label :', classes[label])"
   ]
  },
  {
   "cell_type": "code",
   "execution_count": 9,
   "metadata": {},
   "outputs": [
    {
     "data": {
      "text/plain": [
       "{'frog': 5000,\n",
       " 'truck': 5000,\n",
       " 'deer': 5000,\n",
       " 'car': 5000,\n",
       " 'bird': 5000,\n",
       " 'horse': 5000,\n",
       " 'ship': 5000,\n",
       " 'cat': 5000,\n",
       " 'dog': 5000,\n",
       " 'plane': 5000}"
      ]
     },
     "execution_count": 9,
     "metadata": {},
     "output_type": "execute_result"
    }
   ],
   "source": [
    "# Get count per label in trainset\n",
    "count = {}\n",
    "for _, index in trainset:\n",
    "    label = classes[index]\n",
    "    if label not in count:\n",
    "        count[label] = 0\n",
    "    count[label] += 1\n",
    "count"
   ]
  },
  {
   "cell_type": "code",
   "execution_count": 10,
   "metadata": {},
   "outputs": [
    {
     "data": {
      "text/plain": [
       "{'cat': 1000,\n",
       " 'ship': 1000,\n",
       " 'plane': 1000,\n",
       " 'frog': 1000,\n",
       " 'car': 1000,\n",
       " 'truck': 1000,\n",
       " 'dog': 1000,\n",
       " 'horse': 1000,\n",
       " 'deer': 1000,\n",
       " 'bird': 1000}"
      ]
     },
     "execution_count": 10,
     "metadata": {},
     "output_type": "execute_result"
    }
   ],
   "source": [
    "# Get count per label in testset\n",
    "count = {}\n",
    "for _, index in testset:\n",
    "    label = classes[index]\n",
    "    if label not in count:\n",
    "        count[label] = 0\n",
    "    count[label] += 1\n",
    "count"
   ]
  },
  {
   "cell_type": "markdown",
   "metadata": {},
   "source": [
    "## Build your Neural Network\n",
    "Using the layers in `torch.nn` (which has been imported as `nn`) and the `torch.nn.functional` module (imported as `F`), construct a neural network based on the parameters of the dataset. \n",
    "Feel free to construct a model of any architecture – feedforward, convolutional, or even something more advanced!"
   ]
  },
  {
   "cell_type": "code",
   "execution_count": 11,
   "metadata": {},
   "outputs": [],
   "source": [
    "input_size = 3*32*32\n",
    "output_size = 10\n",
    "class Cifar10(nn.Module):\n",
    "    def __init__(self):\n",
    "        super().__init__()\n",
    "        self.linear1 = nn.Linear(input_size, 256)\n",
    "        self.linear2 = nn.Linear(256, 128)\n",
    "        self.linear3 = nn.Linear(128, output_size)\n",
    "        \n",
    "    def forward(self, img):\n",
    "        # Flatten images into vectors\n",
    "        output = img.view(img.size(0), -1)\n",
    "        # Apply fully-connected layers & activation functions\n",
    "        output = self.linear1(output)\n",
    "        output = F.relu(output)\n",
    "        output = self.linear2(output)\n",
    "        output = F.relu(output)\n",
    "        output = self.linear3(output)\n",
    "        return output\n",
    "    \n",
    "model = Cifar10()"
   ]
  },
  {
   "cell_type": "markdown",
   "metadata": {},
   "source": [
    "Specify a loss function and an optimizer, and instantiate the model.\n",
    "\n",
    "If you use a less common loss function, please note why you chose that loss function in a comment."
   ]
  },
  {
   "cell_type": "code",
   "execution_count": 12,
   "metadata": {},
   "outputs": [],
   "source": [
    "## YOUR CODE HERE ##\n",
    "\n",
    "criterion = nn.CrossEntropyLoss()\n",
    "optimizer = optim.SGD(model.parameters(), lr=0.001, momentum=0.9)"
   ]
  },
  {
   "cell_type": "markdown",
   "metadata": {},
   "source": [
    "## Running your Neural Network\n",
    "Use whatever method you like to train your neural network, and ensure you record the average loss at each epoch. \n",
    "Don't forget to use `torch.device()` and the `.to()` method for both your model and your data if you are using GPU!\n",
    "\n",
    "If you want to print your loss during each epoch, you can use the `enumerate` function and print the loss after a set number of batches. 250 batches works well for most people!"
   ]
  },
  {
   "cell_type": "code",
   "execution_count": 26,
   "metadata": {},
   "outputs": [
    {
     "data": {
      "text/plain": [
       "device(type='cuda', index=0)"
      ]
     },
     "execution_count": 26,
     "metadata": {},
     "output_type": "execute_result"
    }
   ],
   "source": [
    "## YOUR CODE HERE ##\n",
    "\n",
    "# send model data to device\n",
    "if torch.cuda.is_available():\n",
    "    device = torch.device(\"cuda:0\")\n",
    "    model.cuda()\n",
    "else:\n",
    "    device = torch.device(\"cpu\")\n",
    "device"
   ]
  },
  {
   "cell_type": "code",
   "execution_count": 18,
   "metadata": {
    "scrolled": true
   },
   "outputs": [
    {
     "name": "stdout",
     "output_type": "stream",
     "text": [
      "Epoch: 1/10..  Training Loss: 1.617..  Validation Loss: 1.642..  Validation Accuracy: 0.416\n",
      "Epoch: 1/10..  Training Loss: 1.666..  Validation Loss: 1.641..  Validation Accuracy: 0.416\n",
      "Epoch: 1/10..  Training Loss: 1.641..  Validation Loss: 1.641..  Validation Accuracy: 0.416\n",
      "Epoch: 1/10..  Training Loss: 1.607..  Validation Loss: 1.640..  Validation Accuracy: 0.416\n",
      "Epoch: 1/10..  Training Loss: 1.608..  Validation Loss: 1.640..  Validation Accuracy: 0.416\n",
      "Epoch: 1/10..  Training Loss: 1.646..  Validation Loss: 1.639..  Validation Accuracy: 0.419\n",
      "Epoch: 1/10..  Training Loss: 1.656..  Validation Loss: 1.638..  Validation Accuracy: 0.420\n",
      "Epoch: 1/10..  Training Loss: 1.656..  Validation Loss: 1.638..  Validation Accuracy: 0.420\n",
      "Epoch: 1/10..  Training Loss: 1.649..  Validation Loss: 1.638..  Validation Accuracy: 0.420\n",
      "Epoch: 1/10..  Training Loss: 1.634..  Validation Loss: 1.637..  Validation Accuracy: 0.421\n",
      "Epoch: 1/10..  Training Loss: 1.647..  Validation Loss: 1.636..  Validation Accuracy: 0.420\n",
      "Epoch: 1/10..  Training Loss: 1.649..  Validation Loss: 1.636..  Validation Accuracy: 0.422\n",
      "Epoch: 1/10..  Training Loss: 1.653..  Validation Loss: 1.635..  Validation Accuracy: 0.421\n",
      "Epoch: 1/10..  Training Loss: 1.682..  Validation Loss: 1.634..  Validation Accuracy: 0.421\n",
      "Epoch: 1/10..  Training Loss: 1.642..  Validation Loss: 1.634..  Validation Accuracy: 0.419\n",
      "Epoch: 1/10..  Training Loss: 1.647..  Validation Loss: 1.634..  Validation Accuracy: 0.422\n",
      "Epoch: 1/10..  Training Loss: 1.672..  Validation Loss: 1.634..  Validation Accuracy: 0.420\n",
      "Epoch: 1/10..  Training Loss: 1.615..  Validation Loss: 1.633..  Validation Accuracy: 0.421\n",
      "Epoch: 1/10..  Training Loss: 1.650..  Validation Loss: 1.632..  Validation Accuracy: 0.422\n",
      "Epoch: 1/10..  Training Loss: 1.553..  Validation Loss: 1.631..  Validation Accuracy: 0.421\n",
      "Epoch: 1/10..  Training Loss: 1.599..  Validation Loss: 1.631..  Validation Accuracy: 0.422\n",
      "Epoch: 1/10..  Training Loss: 1.606..  Validation Loss: 1.630..  Validation Accuracy: 0.421\n",
      "Epoch: 1/10..  Training Loss: 1.625..  Validation Loss: 1.629..  Validation Accuracy: 0.420\n",
      "Epoch: 1/10..  Training Loss: 1.642..  Validation Loss: 1.629..  Validation Accuracy: 0.421\n",
      "Epoch: 1/10..  Training Loss: 1.669..  Validation Loss: 1.629..  Validation Accuracy: 0.422\n",
      "Epoch: 1/10..  Training Loss: 1.587..  Validation Loss: 1.629..  Validation Accuracy: 0.421\n",
      "Epoch: 1/10..  Training Loss: 1.603..  Validation Loss: 1.628..  Validation Accuracy: 0.419\n",
      "Epoch: 1/10..  Training Loss: 1.655..  Validation Loss: 1.628..  Validation Accuracy: 0.420\n",
      "Epoch: 1/10..  Training Loss: 1.642..  Validation Loss: 1.627..  Validation Accuracy: 0.421\n",
      "Epoch: 1/10..  Training Loss: 1.658..  Validation Loss: 1.626..  Validation Accuracy: 0.421\n",
      "Epoch: 1/10..  Training Loss: 1.626..  Validation Loss: 1.626..  Validation Accuracy: 0.422\n",
      "Epoch: 1/10..  Training Loss: 1.635..  Validation Loss: 1.625..  Validation Accuracy: 0.423\n",
      "Epoch: 1/10..  Training Loss: 1.613..  Validation Loss: 1.625..  Validation Accuracy: 0.424\n",
      "Epoch: 1/10..  Training Loss: 1.661..  Validation Loss: 1.624..  Validation Accuracy: 0.424\n",
      "Epoch: 1/10..  Training Loss: 1.625..  Validation Loss: 1.623..  Validation Accuracy: 0.424\n",
      "Epoch: 1/10..  Training Loss: 1.626..  Validation Loss: 1.623..  Validation Accuracy: 0.424\n",
      "Epoch: 1/10..  Training Loss: 1.631..  Validation Loss: 1.623..  Validation Accuracy: 0.424\n",
      "Epoch: 1/10..  Training Loss: 1.638..  Validation Loss: 1.622..  Validation Accuracy: 0.426\n",
      "Epoch: 1/10..  Training Loss: 1.622..  Validation Loss: 1.621..  Validation Accuracy: 0.425\n",
      "Epoch: 2/10..  Training Loss: 1.632..  Validation Loss: 1.620..  Validation Accuracy: 0.426\n",
      "Epoch: 2/10..  Training Loss: 1.618..  Validation Loss: 1.620..  Validation Accuracy: 0.426\n",
      "Epoch: 2/10..  Training Loss: 1.672..  Validation Loss: 1.619..  Validation Accuracy: 0.428\n",
      "Epoch: 2/10..  Training Loss: 1.597..  Validation Loss: 1.619..  Validation Accuracy: 0.429\n",
      "Epoch: 2/10..  Training Loss: 1.612..  Validation Loss: 1.618..  Validation Accuracy: 0.429\n",
      "Epoch: 2/10..  Training Loss: 1.603..  Validation Loss: 1.618..  Validation Accuracy: 0.425\n",
      "Epoch: 2/10..  Training Loss: 1.598..  Validation Loss: 1.617..  Validation Accuracy: 0.425\n",
      "Epoch: 2/10..  Training Loss: 1.619..  Validation Loss: 1.617..  Validation Accuracy: 0.425\n",
      "Epoch: 2/10..  Training Loss: 1.636..  Validation Loss: 1.617..  Validation Accuracy: 0.426\n",
      "Epoch: 2/10..  Training Loss: 1.641..  Validation Loss: 1.617..  Validation Accuracy: 0.425\n",
      "Epoch: 2/10..  Training Loss: 1.623..  Validation Loss: 1.616..  Validation Accuracy: 0.425\n",
      "Epoch: 2/10..  Training Loss: 1.605..  Validation Loss: 1.616..  Validation Accuracy: 0.426\n",
      "Epoch: 2/10..  Training Loss: 1.611..  Validation Loss: 1.615..  Validation Accuracy: 0.426\n",
      "Epoch: 2/10..  Training Loss: 1.620..  Validation Loss: 1.614..  Validation Accuracy: 0.427\n",
      "Epoch: 2/10..  Training Loss: 1.636..  Validation Loss: 1.614..  Validation Accuracy: 0.427\n",
      "Epoch: 2/10..  Training Loss: 1.637..  Validation Loss: 1.613..  Validation Accuracy: 0.426\n",
      "Epoch: 2/10..  Training Loss: 1.639..  Validation Loss: 1.613..  Validation Accuracy: 0.427\n",
      "Epoch: 2/10..  Training Loss: 1.598..  Validation Loss: 1.612..  Validation Accuracy: 0.429\n",
      "Epoch: 2/10..  Training Loss: 1.628..  Validation Loss: 1.612..  Validation Accuracy: 0.430\n",
      "Epoch: 2/10..  Training Loss: 1.622..  Validation Loss: 1.611..  Validation Accuracy: 0.429\n",
      "Epoch: 2/10..  Training Loss: 1.635..  Validation Loss: 1.611..  Validation Accuracy: 0.429\n",
      "Epoch: 2/10..  Training Loss: 1.565..  Validation Loss: 1.610..  Validation Accuracy: 0.428\n",
      "Epoch: 2/10..  Training Loss: 1.642..  Validation Loss: 1.610..  Validation Accuracy: 0.428\n",
      "Epoch: 2/10..  Training Loss: 1.609..  Validation Loss: 1.609..  Validation Accuracy: 0.428\n",
      "Epoch: 2/10..  Training Loss: 1.591..  Validation Loss: 1.609..  Validation Accuracy: 0.429\n",
      "Epoch: 2/10..  Training Loss: 1.595..  Validation Loss: 1.608..  Validation Accuracy: 0.429\n",
      "Epoch: 2/10..  Training Loss: 1.599..  Validation Loss: 1.608..  Validation Accuracy: 0.430\n",
      "Epoch: 2/10..  Training Loss: 1.620..  Validation Loss: 1.607..  Validation Accuracy: 0.429\n",
      "Epoch: 2/10..  Training Loss: 1.616..  Validation Loss: 1.606..  Validation Accuracy: 0.430\n",
      "Epoch: 2/10..  Training Loss: 1.643..  Validation Loss: 1.606..  Validation Accuracy: 0.430\n",
      "Epoch: 2/10..  Training Loss: 1.593..  Validation Loss: 1.606..  Validation Accuracy: 0.431\n",
      "Epoch: 2/10..  Training Loss: 1.607..  Validation Loss: 1.606..  Validation Accuracy: 0.432\n",
      "Epoch: 2/10..  Training Loss: 1.570..  Validation Loss: 1.605..  Validation Accuracy: 0.432\n",
      "Epoch: 2/10..  Training Loss: 1.540..  Validation Loss: 1.605..  Validation Accuracy: 0.431\n",
      "Epoch: 2/10..  Training Loss: 1.641..  Validation Loss: 1.605..  Validation Accuracy: 0.432\n",
      "Epoch: 2/10..  Training Loss: 1.557..  Validation Loss: 1.604..  Validation Accuracy: 0.432\n",
      "Epoch: 2/10..  Training Loss: 1.599..  Validation Loss: 1.603..  Validation Accuracy: 0.432\n",
      "Epoch: 2/10..  Training Loss: 1.632..  Validation Loss: 1.603..  Validation Accuracy: 0.431\n",
      "Epoch: 2/10..  Training Loss: 1.581..  Validation Loss: 1.602..  Validation Accuracy: 0.431\n",
      "Epoch: 3/10..  Training Loss: 1.602..  Validation Loss: 1.602..  Validation Accuracy: 0.432\n",
      "Epoch: 3/10..  Training Loss: 1.606..  Validation Loss: 1.602..  Validation Accuracy: 0.433\n",
      "Epoch: 3/10..  Training Loss: 1.617..  Validation Loss: 1.601..  Validation Accuracy: 0.434\n",
      "Epoch: 3/10..  Training Loss: 1.585..  Validation Loss: 1.600..  Validation Accuracy: 0.435\n",
      "Epoch: 3/10..  Training Loss: 1.580..  Validation Loss: 1.600..  Validation Accuracy: 0.436\n",
      "Epoch: 3/10..  Training Loss: 1.648..  Validation Loss: 1.600..  Validation Accuracy: 0.433\n",
      "Epoch: 3/10..  Training Loss: 1.551..  Validation Loss: 1.599..  Validation Accuracy: 0.433\n",
      "Epoch: 3/10..  Training Loss: 1.620..  Validation Loss: 1.598..  Validation Accuracy: 0.434\n",
      "Epoch: 3/10..  Training Loss: 1.555..  Validation Loss: 1.597..  Validation Accuracy: 0.433\n",
      "Epoch: 3/10..  Training Loss: 1.596..  Validation Loss: 1.597..  Validation Accuracy: 0.436\n",
      "Epoch: 3/10..  Training Loss: 1.613..  Validation Loss: 1.596..  Validation Accuracy: 0.436\n",
      "Epoch: 3/10..  Training Loss: 1.610..  Validation Loss: 1.596..  Validation Accuracy: 0.436\n",
      "Epoch: 3/10..  Training Loss: 1.593..  Validation Loss: 1.595..  Validation Accuracy: 0.435\n",
      "Epoch: 3/10..  Training Loss: 1.587..  Validation Loss: 1.595..  Validation Accuracy: 0.435\n",
      "Epoch: 3/10..  Training Loss: 1.546..  Validation Loss: 1.594..  Validation Accuracy: 0.436\n",
      "Epoch: 3/10..  Training Loss: 1.627..  Validation Loss: 1.594..  Validation Accuracy: 0.435\n",
      "Epoch: 3/10..  Training Loss: 1.582..  Validation Loss: 1.594..  Validation Accuracy: 0.433\n",
      "Epoch: 3/10..  Training Loss: 1.631..  Validation Loss: 1.594..  Validation Accuracy: 0.434\n",
      "Epoch: 3/10..  Training Loss: 1.578..  Validation Loss: 1.594..  Validation Accuracy: 0.434\n",
      "Epoch: 3/10..  Training Loss: 1.610..  Validation Loss: 1.594..  Validation Accuracy: 0.434\n",
      "Epoch: 3/10..  Training Loss: 1.610..  Validation Loss: 1.593..  Validation Accuracy: 0.437\n",
      "Epoch: 3/10..  Training Loss: 1.595..  Validation Loss: 1.592..  Validation Accuracy: 0.435\n",
      "Epoch: 3/10..  Training Loss: 1.605..  Validation Loss: 1.592..  Validation Accuracy: 0.436\n",
      "Epoch: 3/10..  Training Loss: 1.563..  Validation Loss: 1.592..  Validation Accuracy: 0.435\n",
      "Epoch: 3/10..  Training Loss: 1.617..  Validation Loss: 1.592..  Validation Accuracy: 0.435\n",
      "Epoch: 3/10..  Training Loss: 1.573..  Validation Loss: 1.591..  Validation Accuracy: 0.437\n",
      "Epoch: 3/10..  Training Loss: 1.585..  Validation Loss: 1.591..  Validation Accuracy: 0.438\n",
      "Epoch: 3/10..  Training Loss: 1.604..  Validation Loss: 1.590..  Validation Accuracy: 0.438\n",
      "Epoch: 3/10..  Training Loss: 1.595..  Validation Loss: 1.590..  Validation Accuracy: 0.438\n",
      "Epoch: 3/10..  Training Loss: 1.563..  Validation Loss: 1.589..  Validation Accuracy: 0.437\n",
      "Epoch: 3/10..  Training Loss: 1.584..  Validation Loss: 1.588..  Validation Accuracy: 0.438\n",
      "Epoch: 3/10..  Training Loss: 1.614..  Validation Loss: 1.588..  Validation Accuracy: 0.437\n",
      "Epoch: 3/10..  Training Loss: 1.643..  Validation Loss: 1.587..  Validation Accuracy: 0.438\n",
      "Epoch: 3/10..  Training Loss: 1.567..  Validation Loss: 1.588..  Validation Accuracy: 0.435\n",
      "Epoch: 3/10..  Training Loss: 1.560..  Validation Loss: 1.587..  Validation Accuracy: 0.436\n",
      "Epoch: 3/10..  Training Loss: 1.582..  Validation Loss: 1.587..  Validation Accuracy: 0.437\n",
      "Epoch: 3/10..  Training Loss: 1.590..  Validation Loss: 1.586..  Validation Accuracy: 0.437\n",
      "Epoch: 3/10..  Training Loss: 1.558..  Validation Loss: 1.586..  Validation Accuracy: 0.436\n",
      "Epoch: 3/10..  Training Loss: 1.561..  Validation Loss: 1.586..  Validation Accuracy: 0.438\n",
      "Epoch: 4/10..  Training Loss: 1.580..  Validation Loss: 1.585..  Validation Accuracy: 0.438\n",
      "Epoch: 4/10..  Training Loss: 1.565..  Validation Loss: 1.585..  Validation Accuracy: 0.438\n",
      "Epoch: 4/10..  Training Loss: 1.596..  Validation Loss: 1.584..  Validation Accuracy: 0.438\n",
      "Epoch: 4/10..  Training Loss: 1.593..  Validation Loss: 1.584..  Validation Accuracy: 0.438\n",
      "Epoch: 4/10..  Training Loss: 1.559..  Validation Loss: 1.583..  Validation Accuracy: 0.438\n",
      "Epoch: 4/10..  Training Loss: 1.546..  Validation Loss: 1.583..  Validation Accuracy: 0.439\n",
      "Epoch: 4/10..  Training Loss: 1.605..  Validation Loss: 1.582..  Validation Accuracy: 0.439\n",
      "Epoch: 4/10..  Training Loss: 1.544..  Validation Loss: 1.582..  Validation Accuracy: 0.438\n",
      "Epoch: 4/10..  Training Loss: 1.603..  Validation Loss: 1.582..  Validation Accuracy: 0.439\n",
      "Epoch: 4/10..  Training Loss: 1.589..  Validation Loss: 1.581..  Validation Accuracy: 0.439\n",
      "Epoch: 4/10..  Training Loss: 1.647..  Validation Loss: 1.581..  Validation Accuracy: 0.440\n",
      "Epoch: 4/10..  Training Loss: 1.584..  Validation Loss: 1.580..  Validation Accuracy: 0.440\n",
      "Epoch: 4/10..  Training Loss: 1.538..  Validation Loss: 1.580..  Validation Accuracy: 0.440\n",
      "Epoch: 4/10..  Training Loss: 1.568..  Validation Loss: 1.580..  Validation Accuracy: 0.440\n",
      "Epoch: 4/10..  Training Loss: 1.566..  Validation Loss: 1.579..  Validation Accuracy: 0.440\n",
      "Epoch: 4/10..  Training Loss: 1.554..  Validation Loss: 1.579..  Validation Accuracy: 0.441\n",
      "Epoch: 4/10..  Training Loss: 1.538..  Validation Loss: 1.578..  Validation Accuracy: 0.441\n",
      "Epoch: 4/10..  Training Loss: 1.578..  Validation Loss: 1.577..  Validation Accuracy: 0.441\n",
      "Epoch: 4/10..  Training Loss: 1.619..  Validation Loss: 1.577..  Validation Accuracy: 0.440\n",
      "Epoch: 4/10..  Training Loss: 1.589..  Validation Loss: 1.578..  Validation Accuracy: 0.440\n",
      "Epoch: 4/10..  Training Loss: 1.542..  Validation Loss: 1.577..  Validation Accuracy: 0.441\n",
      "Epoch: 4/10..  Training Loss: 1.565..  Validation Loss: 1.577..  Validation Accuracy: 0.443\n",
      "Epoch: 4/10..  Training Loss: 1.611..  Validation Loss: 1.576..  Validation Accuracy: 0.446\n",
      "Epoch: 4/10..  Training Loss: 1.586..  Validation Loss: 1.576..  Validation Accuracy: 0.447\n",
      "Epoch: 4/10..  Training Loss: 1.536..  Validation Loss: 1.576..  Validation Accuracy: 0.450\n",
      "Epoch: 4/10..  Training Loss: 1.588..  Validation Loss: 1.575..  Validation Accuracy: 0.450\n",
      "Epoch: 4/10..  Training Loss: 1.528..  Validation Loss: 1.574..  Validation Accuracy: 0.450\n",
      "Epoch: 4/10..  Training Loss: 1.549..  Validation Loss: 1.574..  Validation Accuracy: 0.450\n",
      "Epoch: 4/10..  Training Loss: 1.591..  Validation Loss: 1.573..  Validation Accuracy: 0.451\n",
      "Epoch: 4/10..  Training Loss: 1.562..  Validation Loss: 1.573..  Validation Accuracy: 0.449\n",
      "Epoch: 4/10..  Training Loss: 1.558..  Validation Loss: 1.573..  Validation Accuracy: 0.450\n",
      "Epoch: 4/10..  Training Loss: 1.580..  Validation Loss: 1.572..  Validation Accuracy: 0.450\n",
      "Epoch: 4/10..  Training Loss: 1.629..  Validation Loss: 1.572..  Validation Accuracy: 0.448\n",
      "Epoch: 4/10..  Training Loss: 1.562..  Validation Loss: 1.572..  Validation Accuracy: 0.445\n",
      "Epoch: 4/10..  Training Loss: 1.611..  Validation Loss: 1.571..  Validation Accuracy: 0.445\n",
      "Epoch: 4/10..  Training Loss: 1.558..  Validation Loss: 1.570..  Validation Accuracy: 0.444\n",
      "Epoch: 4/10..  Training Loss: 1.565..  Validation Loss: 1.570..  Validation Accuracy: 0.445\n",
      "Epoch: 4/10..  Training Loss: 1.590..  Validation Loss: 1.569..  Validation Accuracy: 0.445\n",
      "Epoch: 4/10..  Training Loss: 1.548..  Validation Loss: 1.569..  Validation Accuracy: 0.446\n",
      "Epoch: 5/10..  Training Loss: 1.505..  Validation Loss: 1.569..  Validation Accuracy: 0.445\n",
      "Epoch: 5/10..  Training Loss: 1.575..  Validation Loss: 1.570..  Validation Accuracy: 0.444\n",
      "Epoch: 5/10..  Training Loss: 1.541..  Validation Loss: 1.570..  Validation Accuracy: 0.443\n",
      "Epoch: 5/10..  Training Loss: 1.539..  Validation Loss: 1.569..  Validation Accuracy: 0.444\n",
      "Epoch: 5/10..  Training Loss: 1.580..  Validation Loss: 1.568..  Validation Accuracy: 0.445\n",
      "Epoch: 5/10..  Training Loss: 1.612..  Validation Loss: 1.567..  Validation Accuracy: 0.444\n",
      "Epoch: 5/10..  Training Loss: 1.581..  Validation Loss: 1.567..  Validation Accuracy: 0.443\n",
      "Epoch: 5/10..  Training Loss: 1.585..  Validation Loss: 1.567..  Validation Accuracy: 0.444\n",
      "Epoch: 5/10..  Training Loss: 1.546..  Validation Loss: 1.567..  Validation Accuracy: 0.445\n",
      "Epoch: 5/10..  Training Loss: 1.554..  Validation Loss: 1.566..  Validation Accuracy: 0.445\n",
      "Epoch: 5/10..  Training Loss: 1.579..  Validation Loss: 1.566..  Validation Accuracy: 0.445\n",
      "Epoch: 5/10..  Training Loss: 1.608..  Validation Loss: 1.565..  Validation Accuracy: 0.447\n",
      "Epoch: 5/10..  Training Loss: 1.565..  Validation Loss: 1.565..  Validation Accuracy: 0.446\n",
      "Epoch: 5/10..  Training Loss: 1.574..  Validation Loss: 1.565..  Validation Accuracy: 0.445\n",
      "Epoch: 5/10..  Training Loss: 1.528..  Validation Loss: 1.564..  Validation Accuracy: 0.444\n",
      "Epoch: 5/10..  Training Loss: 1.542..  Validation Loss: 1.563..  Validation Accuracy: 0.445\n",
      "Epoch: 5/10..  Training Loss: 1.562..  Validation Loss: 1.562..  Validation Accuracy: 0.448\n",
      "Epoch: 5/10..  Training Loss: 1.568..  Validation Loss: 1.562..  Validation Accuracy: 0.449\n",
      "Epoch: 5/10..  Training Loss: 1.522..  Validation Loss: 1.562..  Validation Accuracy: 0.448\n",
      "Epoch: 5/10..  Training Loss: 1.561..  Validation Loss: 1.562..  Validation Accuracy: 0.449\n",
      "Epoch: 5/10..  Training Loss: 1.554..  Validation Loss: 1.562..  Validation Accuracy: 0.449\n",
      "Epoch: 5/10..  Training Loss: 1.584..  Validation Loss: 1.562..  Validation Accuracy: 0.449\n",
      "Epoch: 5/10..  Training Loss: 1.552..  Validation Loss: 1.561..  Validation Accuracy: 0.448\n",
      "Epoch: 5/10..  Training Loss: 1.509..  Validation Loss: 1.561..  Validation Accuracy: 0.448\n",
      "Epoch: 5/10..  Training Loss: 1.521..  Validation Loss: 1.561..  Validation Accuracy: 0.446\n",
      "Epoch: 5/10..  Training Loss: 1.550..  Validation Loss: 1.561..  Validation Accuracy: 0.446\n",
      "Epoch: 5/10..  Training Loss: 1.564..  Validation Loss: 1.560..  Validation Accuracy: 0.446\n",
      "Epoch: 5/10..  Training Loss: 1.547..  Validation Loss: 1.559..  Validation Accuracy: 0.446\n",
      "Epoch: 5/10..  Training Loss: 1.558..  Validation Loss: 1.558..  Validation Accuracy: 0.447\n",
      "Epoch: 5/10..  Training Loss: 1.581..  Validation Loss: 1.558..  Validation Accuracy: 0.448\n",
      "Epoch: 5/10..  Training Loss: 1.527..  Validation Loss: 1.557..  Validation Accuracy: 0.449\n",
      "Epoch: 5/10..  Training Loss: 1.549..  Validation Loss: 1.556..  Validation Accuracy: 0.450\n",
      "Epoch: 5/10..  Training Loss: 1.536..  Validation Loss: 1.556..  Validation Accuracy: 0.450\n",
      "Epoch: 5/10..  Training Loss: 1.550..  Validation Loss: 1.556..  Validation Accuracy: 0.450\n",
      "Epoch: 5/10..  Training Loss: 1.570..  Validation Loss: 1.555..  Validation Accuracy: 0.453\n",
      "Epoch: 5/10..  Training Loss: 1.505..  Validation Loss: 1.555..  Validation Accuracy: 0.452\n",
      "Epoch: 5/10..  Training Loss: 1.560..  Validation Loss: 1.555..  Validation Accuracy: 0.453\n",
      "Epoch: 5/10..  Training Loss: 1.545..  Validation Loss: 1.554..  Validation Accuracy: 0.457\n",
      "Epoch: 5/10..  Training Loss: 1.546..  Validation Loss: 1.554..  Validation Accuracy: 0.456\n",
      "Epoch: 5/10..  Training Loss: 1.595..  Validation Loss: 1.555..  Validation Accuracy: 0.456\n",
      "Epoch: 6/10..  Training Loss: 1.530..  Validation Loss: 1.555..  Validation Accuracy: 0.456\n",
      "Epoch: 6/10..  Training Loss: 1.553..  Validation Loss: 1.555..  Validation Accuracy: 0.454\n",
      "Epoch: 6/10..  Training Loss: 1.559..  Validation Loss: 1.555..  Validation Accuracy: 0.454\n",
      "Epoch: 6/10..  Training Loss: 1.564..  Validation Loss: 1.555..  Validation Accuracy: 0.454\n",
      "Epoch: 6/10..  Training Loss: 1.527..  Validation Loss: 1.554..  Validation Accuracy: 0.454\n",
      "Epoch: 6/10..  Training Loss: 1.567..  Validation Loss: 1.553..  Validation Accuracy: 0.455\n",
      "Epoch: 6/10..  Training Loss: 1.528..  Validation Loss: 1.552..  Validation Accuracy: 0.455\n",
      "Epoch: 6/10..  Training Loss: 1.570..  Validation Loss: 1.551..  Validation Accuracy: 0.455\n",
      "Epoch: 6/10..  Training Loss: 1.550..  Validation Loss: 1.551..  Validation Accuracy: 0.455\n",
      "Epoch: 6/10..  Training Loss: 1.524..  Validation Loss: 1.552..  Validation Accuracy: 0.456\n",
      "Epoch: 6/10..  Training Loss: 1.612..  Validation Loss: 1.552..  Validation Accuracy: 0.456\n",
      "Epoch: 6/10..  Training Loss: 1.528..  Validation Loss: 1.552..  Validation Accuracy: 0.453\n",
      "Epoch: 6/10..  Training Loss: 1.579..  Validation Loss: 1.551..  Validation Accuracy: 0.453\n",
      "Epoch: 6/10..  Training Loss: 1.515..  Validation Loss: 1.550..  Validation Accuracy: 0.455\n",
      "Epoch: 6/10..  Training Loss: 1.503..  Validation Loss: 1.550..  Validation Accuracy: 0.455\n",
      "Epoch: 6/10..  Training Loss: 1.518..  Validation Loss: 1.550..  Validation Accuracy: 0.453\n",
      "Epoch: 6/10..  Training Loss: 1.544..  Validation Loss: 1.550..  Validation Accuracy: 0.449\n",
      "Epoch: 6/10..  Training Loss: 1.542..  Validation Loss: 1.549..  Validation Accuracy: 0.450\n",
      "Epoch: 6/10..  Training Loss: 1.529..  Validation Loss: 1.548..  Validation Accuracy: 0.452\n",
      "Epoch: 6/10..  Training Loss: 1.507..  Validation Loss: 1.548..  Validation Accuracy: 0.453\n",
      "Epoch: 6/10..  Training Loss: 1.540..  Validation Loss: 1.548..  Validation Accuracy: 0.453\n",
      "Epoch: 6/10..  Training Loss: 1.567..  Validation Loss: 1.547..  Validation Accuracy: 0.455\n",
      "Epoch: 6/10..  Training Loss: 1.567..  Validation Loss: 1.546..  Validation Accuracy: 0.460\n",
      "Epoch: 6/10..  Training Loss: 1.570..  Validation Loss: 1.546..  Validation Accuracy: 0.459\n",
      "Epoch: 6/10..  Training Loss: 1.578..  Validation Loss: 1.546..  Validation Accuracy: 0.458\n",
      "Epoch: 6/10..  Training Loss: 1.545..  Validation Loss: 1.545..  Validation Accuracy: 0.457\n",
      "Epoch: 6/10..  Training Loss: 1.510..  Validation Loss: 1.545..  Validation Accuracy: 0.455\n",
      "Epoch: 6/10..  Training Loss: 1.582..  Validation Loss: 1.544..  Validation Accuracy: 0.455\n",
      "Epoch: 6/10..  Training Loss: 1.557..  Validation Loss: 1.544..  Validation Accuracy: 0.453\n",
      "Epoch: 6/10..  Training Loss: 1.517..  Validation Loss: 1.544..  Validation Accuracy: 0.453\n",
      "Epoch: 6/10..  Training Loss: 1.500..  Validation Loss: 1.543..  Validation Accuracy: 0.452\n",
      "Epoch: 6/10..  Training Loss: 1.534..  Validation Loss: 1.543..  Validation Accuracy: 0.452\n",
      "Epoch: 6/10..  Training Loss: 1.528..  Validation Loss: 1.542..  Validation Accuracy: 0.454\n",
      "Epoch: 6/10..  Training Loss: 1.531..  Validation Loss: 1.542..  Validation Accuracy: 0.455\n",
      "Epoch: 6/10..  Training Loss: 1.501..  Validation Loss: 1.542..  Validation Accuracy: 0.456\n",
      "Epoch: 6/10..  Training Loss: 1.528..  Validation Loss: 1.542..  Validation Accuracy: 0.457\n",
      "Epoch: 6/10..  Training Loss: 1.509..  Validation Loss: 1.542..  Validation Accuracy: 0.456\n",
      "Epoch: 6/10..  Training Loss: 1.518..  Validation Loss: 1.542..  Validation Accuracy: 0.454\n",
      "Epoch: 6/10..  Training Loss: 1.493..  Validation Loss: 1.542..  Validation Accuracy: 0.453\n",
      "Epoch: 7/10..  Training Loss: 1.551..  Validation Loss: 1.542..  Validation Accuracy: 0.452\n",
      "Epoch: 7/10..  Training Loss: 1.525..  Validation Loss: 1.542..  Validation Accuracy: 0.454\n",
      "Epoch: 7/10..  Training Loss: 1.521..  Validation Loss: 1.542..  Validation Accuracy: 0.457\n",
      "Epoch: 7/10..  Training Loss: 1.537..  Validation Loss: 1.541..  Validation Accuracy: 0.459\n",
      "Epoch: 7/10..  Training Loss: 1.575..  Validation Loss: 1.541..  Validation Accuracy: 0.459\n",
      "Epoch: 7/10..  Training Loss: 1.550..  Validation Loss: 1.541..  Validation Accuracy: 0.459\n",
      "Epoch: 7/10..  Training Loss: 1.499..  Validation Loss: 1.541..  Validation Accuracy: 0.459\n",
      "Epoch: 7/10..  Training Loss: 1.494..  Validation Loss: 1.539..  Validation Accuracy: 0.460\n",
      "Epoch: 7/10..  Training Loss: 1.516..  Validation Loss: 1.538..  Validation Accuracy: 0.461\n",
      "Epoch: 7/10..  Training Loss: 1.564..  Validation Loss: 1.538..  Validation Accuracy: 0.461\n",
      "Epoch: 7/10..  Training Loss: 1.503..  Validation Loss: 1.537..  Validation Accuracy: 0.461\n",
      "Epoch: 7/10..  Training Loss: 1.566..  Validation Loss: 1.537..  Validation Accuracy: 0.461\n",
      "Epoch: 7/10..  Training Loss: 1.539..  Validation Loss: 1.536..  Validation Accuracy: 0.461\n",
      "Epoch: 7/10..  Training Loss: 1.567..  Validation Loss: 1.536..  Validation Accuracy: 0.459\n",
      "Epoch: 7/10..  Training Loss: 1.466..  Validation Loss: 1.535..  Validation Accuracy: 0.458\n",
      "Epoch: 7/10..  Training Loss: 1.492..  Validation Loss: 1.535..  Validation Accuracy: 0.459\n",
      "Epoch: 7/10..  Training Loss: 1.501..  Validation Loss: 1.535..  Validation Accuracy: 0.459\n",
      "Epoch: 7/10..  Training Loss: 1.565..  Validation Loss: 1.535..  Validation Accuracy: 0.458\n",
      "Epoch: 7/10..  Training Loss: 1.541..  Validation Loss: 1.534..  Validation Accuracy: 0.460\n",
      "Epoch: 7/10..  Training Loss: 1.505..  Validation Loss: 1.534..  Validation Accuracy: 0.460\n",
      "Epoch: 7/10..  Training Loss: 1.474..  Validation Loss: 1.533..  Validation Accuracy: 0.461\n",
      "Epoch: 7/10..  Training Loss: 1.556..  Validation Loss: 1.533..  Validation Accuracy: 0.458\n",
      "Epoch: 7/10..  Training Loss: 1.548..  Validation Loss: 1.533..  Validation Accuracy: 0.458\n",
      "Epoch: 7/10..  Training Loss: 1.478..  Validation Loss: 1.533..  Validation Accuracy: 0.455\n",
      "Epoch: 7/10..  Training Loss: 1.527..  Validation Loss: 1.533..  Validation Accuracy: 0.456\n",
      "Epoch: 7/10..  Training Loss: 1.537..  Validation Loss: 1.533..  Validation Accuracy: 0.458\n",
      "Epoch: 7/10..  Training Loss: 1.474..  Validation Loss: 1.533..  Validation Accuracy: 0.462\n",
      "Epoch: 7/10..  Training Loss: 1.550..  Validation Loss: 1.532..  Validation Accuracy: 0.463\n",
      "Epoch: 7/10..  Training Loss: 1.513..  Validation Loss: 1.532..  Validation Accuracy: 0.463\n",
      "Epoch: 7/10..  Training Loss: 1.523..  Validation Loss: 1.532..  Validation Accuracy: 0.463\n",
      "Epoch: 7/10..  Training Loss: 1.550..  Validation Loss: 1.532..  Validation Accuracy: 0.462\n",
      "Epoch: 7/10..  Training Loss: 1.478..  Validation Loss: 1.531..  Validation Accuracy: 0.460\n",
      "Epoch: 7/10..  Training Loss: 1.525..  Validation Loss: 1.530..  Validation Accuracy: 0.460\n",
      "Epoch: 7/10..  Training Loss: 1.501..  Validation Loss: 1.530..  Validation Accuracy: 0.461\n",
      "Epoch: 7/10..  Training Loss: 1.531..  Validation Loss: 1.529..  Validation Accuracy: 0.461\n",
      "Epoch: 7/10..  Training Loss: 1.558..  Validation Loss: 1.529..  Validation Accuracy: 0.459\n",
      "Epoch: 7/10..  Training Loss: 1.471..  Validation Loss: 1.530..  Validation Accuracy: 0.461\n",
      "Epoch: 7/10..  Training Loss: 1.491..  Validation Loss: 1.530..  Validation Accuracy: 0.460\n",
      "Epoch: 7/10..  Training Loss: 1.559..  Validation Loss: 1.529..  Validation Accuracy: 0.462\n",
      "Epoch: 8/10..  Training Loss: 1.492..  Validation Loss: 1.529..  Validation Accuracy: 0.465\n",
      "Epoch: 8/10..  Training Loss: 1.497..  Validation Loss: 1.529..  Validation Accuracy: 0.464\n",
      "Epoch: 8/10..  Training Loss: 1.481..  Validation Loss: 1.529..  Validation Accuracy: 0.461\n",
      "Epoch: 8/10..  Training Loss: 1.500..  Validation Loss: 1.528..  Validation Accuracy: 0.462\n",
      "Epoch: 8/10..  Training Loss: 1.490..  Validation Loss: 1.528..  Validation Accuracy: 0.463\n",
      "Epoch: 8/10..  Training Loss: 1.487..  Validation Loss: 1.528..  Validation Accuracy: 0.464\n",
      "Epoch: 8/10..  Training Loss: 1.531..  Validation Loss: 1.527..  Validation Accuracy: 0.464\n",
      "Epoch: 8/10..  Training Loss: 1.507..  Validation Loss: 1.527..  Validation Accuracy: 0.464\n",
      "Epoch: 8/10..  Training Loss: 1.520..  Validation Loss: 1.527..  Validation Accuracy: 0.468\n",
      "Epoch: 8/10..  Training Loss: 1.542..  Validation Loss: 1.526..  Validation Accuracy: 0.467\n",
      "Epoch: 8/10..  Training Loss: 1.576..  Validation Loss: 1.526..  Validation Accuracy: 0.468\n",
      "Epoch: 8/10..  Training Loss: 1.501..  Validation Loss: 1.526..  Validation Accuracy: 0.468\n",
      "Epoch: 8/10..  Training Loss: 1.490..  Validation Loss: 1.525..  Validation Accuracy: 0.468\n",
      "Epoch: 8/10..  Training Loss: 1.534..  Validation Loss: 1.525..  Validation Accuracy: 0.469\n",
      "Epoch: 8/10..  Training Loss: 1.545..  Validation Loss: 1.525..  Validation Accuracy: 0.463\n",
      "Epoch: 8/10..  Training Loss: 1.526..  Validation Loss: 1.524..  Validation Accuracy: 0.463\n",
      "Epoch: 8/10..  Training Loss: 1.491..  Validation Loss: 1.524..  Validation Accuracy: 0.462\n",
      "Epoch: 8/10..  Training Loss: 1.488..  Validation Loss: 1.524..  Validation Accuracy: 0.462\n",
      "Epoch: 8/10..  Training Loss: 1.461..  Validation Loss: 1.524..  Validation Accuracy: 0.462\n",
      "Epoch: 8/10..  Training Loss: 1.559..  Validation Loss: 1.523..  Validation Accuracy: 0.462\n",
      "Epoch: 8/10..  Training Loss: 1.473..  Validation Loss: 1.523..  Validation Accuracy: 0.462\n",
      "Epoch: 8/10..  Training Loss: 1.533..  Validation Loss: 1.522..  Validation Accuracy: 0.463\n",
      "Epoch: 8/10..  Training Loss: 1.580..  Validation Loss: 1.522..  Validation Accuracy: 0.462\n",
      "Epoch: 8/10..  Training Loss: 1.469..  Validation Loss: 1.522..  Validation Accuracy: 0.460\n",
      "Epoch: 8/10..  Training Loss: 1.508..  Validation Loss: 1.521..  Validation Accuracy: 0.463\n",
      "Epoch: 8/10..  Training Loss: 1.535..  Validation Loss: 1.520..  Validation Accuracy: 0.464\n",
      "Epoch: 8/10..  Training Loss: 1.484..  Validation Loss: 1.520..  Validation Accuracy: 0.467\n",
      "Epoch: 8/10..  Training Loss: 1.469..  Validation Loss: 1.520..  Validation Accuracy: 0.465\n",
      "Epoch: 8/10..  Training Loss: 1.532..  Validation Loss: 1.519..  Validation Accuracy: 0.466\n",
      "Epoch: 8/10..  Training Loss: 1.468..  Validation Loss: 1.519..  Validation Accuracy: 0.463\n",
      "Epoch: 8/10..  Training Loss: 1.465..  Validation Loss: 1.518..  Validation Accuracy: 0.464\n",
      "Epoch: 8/10..  Training Loss: 1.541..  Validation Loss: 1.518..  Validation Accuracy: 0.462\n",
      "Epoch: 8/10..  Training Loss: 1.509..  Validation Loss: 1.517..  Validation Accuracy: 0.464\n",
      "Epoch: 8/10..  Training Loss: 1.539..  Validation Loss: 1.518..  Validation Accuracy: 0.464\n",
      "Epoch: 8/10..  Training Loss: 1.532..  Validation Loss: 1.518..  Validation Accuracy: 0.469\n",
      "Epoch: 8/10..  Training Loss: 1.509..  Validation Loss: 1.518..  Validation Accuracy: 0.470\n",
      "Epoch: 8/10..  Training Loss: 1.500..  Validation Loss: 1.518..  Validation Accuracy: 0.469\n",
      "Epoch: 8/10..  Training Loss: 1.506..  Validation Loss: 1.517..  Validation Accuracy: 0.469\n",
      "Epoch: 8/10..  Training Loss: 1.447..  Validation Loss: 1.516..  Validation Accuracy: 0.469\n",
      "Epoch: 9/10..  Training Loss: 1.457..  Validation Loss: 1.515..  Validation Accuracy: 0.470\n",
      "Epoch: 9/10..  Training Loss: 1.454..  Validation Loss: 1.515..  Validation Accuracy: 0.470\n",
      "Epoch: 9/10..  Training Loss: 1.513..  Validation Loss: 1.515..  Validation Accuracy: 0.470\n",
      "Epoch: 9/10..  Training Loss: 1.482..  Validation Loss: 1.514..  Validation Accuracy: 0.469\n",
      "Epoch: 9/10..  Training Loss: 1.479..  Validation Loss: 1.515..  Validation Accuracy: 0.468\n",
      "Epoch: 9/10..  Training Loss: 1.490..  Validation Loss: 1.516..  Validation Accuracy: 0.465\n",
      "Epoch: 9/10..  Training Loss: 1.532..  Validation Loss: 1.516..  Validation Accuracy: 0.465\n",
      "Epoch: 9/10..  Training Loss: 1.512..  Validation Loss: 1.515..  Validation Accuracy: 0.466\n",
      "Epoch: 9/10..  Training Loss: 1.510..  Validation Loss: 1.514..  Validation Accuracy: 0.469\n",
      "Epoch: 9/10..  Training Loss: 1.503..  Validation Loss: 1.514..  Validation Accuracy: 0.467\n",
      "Epoch: 9/10..  Training Loss: 1.497..  Validation Loss: 1.514..  Validation Accuracy: 0.468\n",
      "Epoch: 9/10..  Training Loss: 1.511..  Validation Loss: 1.514..  Validation Accuracy: 0.467\n",
      "Epoch: 9/10..  Training Loss: 1.516..  Validation Loss: 1.514..  Validation Accuracy: 0.467\n",
      "Epoch: 9/10..  Training Loss: 1.511..  Validation Loss: 1.514..  Validation Accuracy: 0.466\n",
      "Epoch: 9/10..  Training Loss: 1.480..  Validation Loss: 1.513..  Validation Accuracy: 0.468\n",
      "Epoch: 9/10..  Training Loss: 1.512..  Validation Loss: 1.512..  Validation Accuracy: 0.467\n",
      "Epoch: 9/10..  Training Loss: 1.525..  Validation Loss: 1.512..  Validation Accuracy: 0.468\n",
      "Epoch: 9/10..  Training Loss: 1.488..  Validation Loss: 1.512..  Validation Accuracy: 0.469\n",
      "Epoch: 9/10..  Training Loss: 1.500..  Validation Loss: 1.512..  Validation Accuracy: 0.469\n",
      "Epoch: 9/10..  Training Loss: 1.458..  Validation Loss: 1.512..  Validation Accuracy: 0.470\n",
      "Epoch: 9/10..  Training Loss: 1.507..  Validation Loss: 1.511..  Validation Accuracy: 0.471\n",
      "Epoch: 9/10..  Training Loss: 1.469..  Validation Loss: 1.511..  Validation Accuracy: 0.471\n",
      "Epoch: 9/10..  Training Loss: 1.539..  Validation Loss: 1.511..  Validation Accuracy: 0.472\n",
      "Epoch: 9/10..  Training Loss: 1.471..  Validation Loss: 1.511..  Validation Accuracy: 0.468\n",
      "Epoch: 9/10..  Training Loss: 1.493..  Validation Loss: 1.510..  Validation Accuracy: 0.467\n",
      "Epoch: 9/10..  Training Loss: 1.498..  Validation Loss: 1.509..  Validation Accuracy: 0.467\n",
      "Epoch: 9/10..  Training Loss: 1.481..  Validation Loss: 1.509..  Validation Accuracy: 0.468\n",
      "Epoch: 9/10..  Training Loss: 1.521..  Validation Loss: 1.509..  Validation Accuracy: 0.469\n",
      "Epoch: 9/10..  Training Loss: 1.450..  Validation Loss: 1.509..  Validation Accuracy: 0.469\n",
      "Epoch: 9/10..  Training Loss: 1.479..  Validation Loss: 1.509..  Validation Accuracy: 0.468\n",
      "Epoch: 9/10..  Training Loss: 1.482..  Validation Loss: 1.508..  Validation Accuracy: 0.468\n",
      "Epoch: 9/10..  Training Loss: 1.535..  Validation Loss: 1.508..  Validation Accuracy: 0.466\n",
      "Epoch: 9/10..  Training Loss: 1.525..  Validation Loss: 1.507..  Validation Accuracy: 0.467\n",
      "Epoch: 9/10..  Training Loss: 1.503..  Validation Loss: 1.506..  Validation Accuracy: 0.470\n",
      "Epoch: 9/10..  Training Loss: 1.436..  Validation Loss: 1.506..  Validation Accuracy: 0.469\n",
      "Epoch: 9/10..  Training Loss: 1.493..  Validation Loss: 1.506..  Validation Accuracy: 0.473\n",
      "Epoch: 9/10..  Training Loss: 1.446..  Validation Loss: 1.506..  Validation Accuracy: 0.474\n",
      "Epoch: 9/10..  Training Loss: 1.485..  Validation Loss: 1.505..  Validation Accuracy: 0.475\n",
      "Epoch: 9/10..  Training Loss: 1.454..  Validation Loss: 1.505..  Validation Accuracy: 0.474\n",
      "Epoch: 10/10..  Training Loss: 1.487..  Validation Loss: 1.504..  Validation Accuracy: 0.474\n",
      "Epoch: 10/10..  Training Loss: 1.523..  Validation Loss: 1.504..  Validation Accuracy: 0.470\n",
      "Epoch: 10/10..  Training Loss: 1.479..  Validation Loss: 1.505..  Validation Accuracy: 0.469\n",
      "Epoch: 10/10..  Training Loss: 1.469..  Validation Loss: 1.505..  Validation Accuracy: 0.468\n",
      "Epoch: 10/10..  Training Loss: 1.491..  Validation Loss: 1.505..  Validation Accuracy: 0.468\n",
      "Epoch: 10/10..  Training Loss: 1.480..  Validation Loss: 1.505..  Validation Accuracy: 0.467\n",
      "Epoch: 10/10..  Training Loss: 1.474..  Validation Loss: 1.503..  Validation Accuracy: 0.468\n",
      "Epoch: 10/10..  Training Loss: 1.496..  Validation Loss: 1.502..  Validation Accuracy: 0.471\n",
      "Epoch: 10/10..  Training Loss: 1.543..  Validation Loss: 1.502..  Validation Accuracy: 0.472\n",
      "Epoch: 10/10..  Training Loss: 1.487..  Validation Loss: 1.503..  Validation Accuracy: 0.475\n",
      "Epoch: 10/10..  Training Loss: 1.499..  Validation Loss: 1.502..  Validation Accuracy: 0.475\n",
      "Epoch: 10/10..  Training Loss: 1.437..  Validation Loss: 1.501..  Validation Accuracy: 0.475\n",
      "Epoch: 10/10..  Training Loss: 1.497..  Validation Loss: 1.501..  Validation Accuracy: 0.470\n",
      "Epoch: 10/10..  Training Loss: 1.514..  Validation Loss: 1.501..  Validation Accuracy: 0.470\n",
      "Epoch: 10/10..  Training Loss: 1.437..  Validation Loss: 1.501..  Validation Accuracy: 0.471\n",
      "Epoch: 10/10..  Training Loss: 1.483..  Validation Loss: 1.501..  Validation Accuracy: 0.468\n",
      "Epoch: 10/10..  Training Loss: 1.458..  Validation Loss: 1.501..  Validation Accuracy: 0.466\n",
      "Epoch: 10/10..  Training Loss: 1.498..  Validation Loss: 1.502..  Validation Accuracy: 0.467\n",
      "Epoch: 10/10..  Training Loss: 1.486..  Validation Loss: 1.501..  Validation Accuracy: 0.471\n",
      "Epoch: 10/10..  Training Loss: 1.468..  Validation Loss: 1.501..  Validation Accuracy: 0.471\n",
      "Epoch: 10/10..  Training Loss: 1.449..  Validation Loss: 1.501..  Validation Accuracy: 0.472\n",
      "Epoch: 10/10..  Training Loss: 1.485..  Validation Loss: 1.500..  Validation Accuracy: 0.474\n",
      "Epoch: 10/10..  Training Loss: 1.488..  Validation Loss: 1.500..  Validation Accuracy: 0.475\n",
      "Epoch: 10/10..  Training Loss: 1.471..  Validation Loss: 1.499..  Validation Accuracy: 0.476\n",
      "Epoch: 10/10..  Training Loss: 1.486..  Validation Loss: 1.499..  Validation Accuracy: 0.475\n",
      "Epoch: 10/10..  Training Loss: 1.497..  Validation Loss: 1.499..  Validation Accuracy: 0.473\n",
      "Epoch: 10/10..  Training Loss: 1.481..  Validation Loss: 1.498..  Validation Accuracy: 0.471\n",
      "Epoch: 10/10..  Training Loss: 1.462..  Validation Loss: 1.497..  Validation Accuracy: 0.473\n",
      "Epoch: 10/10..  Training Loss: 1.454..  Validation Loss: 1.498..  Validation Accuracy: 0.469\n",
      "Epoch: 10/10..  Training Loss: 1.463..  Validation Loss: 1.498..  Validation Accuracy: 0.471\n",
      "Epoch: 10/10..  Training Loss: 1.476..  Validation Loss: 1.497..  Validation Accuracy: 0.471\n",
      "Epoch: 10/10..  Training Loss: 1.460..  Validation Loss: 1.496..  Validation Accuracy: 0.472\n",
      "Epoch: 10/10..  Training Loss: 1.478..  Validation Loss: 1.496..  Validation Accuracy: 0.473\n",
      "Epoch: 10/10..  Training Loss: 1.453..  Validation Loss: 1.496..  Validation Accuracy: 0.472\n",
      "Epoch: 10/10..  Training Loss: 1.485..  Validation Loss: 1.496..  Validation Accuracy: 0.476\n",
      "Epoch: 10/10..  Training Loss: 1.456..  Validation Loss: 1.496..  Validation Accuracy: 0.477\n",
      "Epoch: 10/10..  Training Loss: 1.539..  Validation Loss: 1.495..  Validation Accuracy: 0.475\n",
      "Epoch: 10/10..  Training Loss: 1.477..  Validation Loss: 1.495..  Validation Accuracy: 0.475\n",
      "Epoch: 10/10..  Training Loss: 1.413..  Validation Loss: 1.494..  Validation Accuracy: 0.475\n",
      "Epoch: 10/10..  Training Loss: 1.425..  Validation Loss: 1.494..  Validation Accuracy: 0.473\n",
      "Total training Time: 00:00:01.15\n"
     ]
    }
   ],
   "source": [
    "running_loss = 0\n",
    "print_interval = 5\n",
    "num_epochs = 10\n",
    "steps = 0\n",
    "start = time.time()\n",
    "for epoch in range(num_epochs):\n",
    "    # Model in training mode with dropout on\n",
    "    model.train()\n",
    "    for inputs, labels in iter(trainloader):\n",
    "        steps += 1\n",
    "        optimizer.zero_grad()\n",
    "        start = time.time()\n",
    "        # send parameters to device\n",
    "        inputs, labels = inputs.to(device), labels.to(device)\n",
    "        output = model.forward(inputs)\n",
    "        loss = criterion(output, labels)\n",
    "        loss.backward()\n",
    "        optimizer.step()\n",
    "        running_loss += loss.data\n",
    "        if steps % print_interval == 0:\n",
    "            model.eval()\n",
    "            accuracy = 0\n",
    "            test_loss = 0\n",
    "            for val, (inputs, labels) in enumerate(testloader):\n",
    "                inputs, labels = inputs.to(device), labels.to(device)\n",
    "                output = model.forward(inputs)\n",
    "                test_loss += criterion(output, labels).data\n",
    "                # Calculate model accuracy\n",
    "                ps = torch.exp(output).data\n",
    "                equality = (labels.data == ps.max(1)[1])\n",
    "                accuracy += equality.type_as(torch.FloatTensor()).mean()\n",
    "            \n",
    "            print(\"Epoch: {}/{}.. \".format(epoch+1, num_epochs),\n",
    "                  \"Training Loss: {:.3f}.. \".format(running_loss/print_interval),\n",
    "                  \"Validation Loss: {:.3f}.. \".format(test_loss/len(testloader)),\n",
    "                  \"Validation Accuracy: {:.3f}\".format(accuracy/len(testloader)))\n",
    "            \n",
    "            running_loss = 0\n",
    "            model.train()\n",
    "\n",
    "end = time.time()\n",
    "hours, rem = divmod(end-start, 3600)\n",
    "minutes, seconds = divmod(rem, 60)\n",
    "print(\"Total training Time: {:0>2}:{:0>2}:{:05.2f}\".format(int(hours),int(minutes),seconds))"
   ]
  },
  {
   "cell_type": "markdown",
   "metadata": {},
   "source": [
    "## Testing your model\n",
    "Using the previously created `DataLoader` for the test set, compute the percentage of correct predictions using the highest probability prediction. \n",
    "\n",
    "If your accuracy is over 70%, great work! \n",
    "This is a hard task to exceed 70% on.\n",
    "\n",
    "If your accuracy is under 45%, you'll need to make improvements.\n",
    "Go back and check your model architecture, loss function, and optimizer to make sure they're appropriate for an image classification task."
   ]
  },
  {
   "cell_type": "code",
   "execution_count": 36,
   "metadata": {},
   "outputs": [
    {
     "name": "stdout",
     "output_type": "stream",
     "text": [
      "Test Loss: 1.494..  Test Accuracy: 47.324\n"
     ]
    }
   ],
   "source": [
    "## YOUR CODE HERE ##\n",
    "\n",
    "# Validation on the test set\n",
    "model.eval()\n",
    "accuracy = 0\n",
    "test_loss = 0\n",
    "for val, (inputs, labels) in enumerate(testloader):\n",
    "    inputs, labels = inputs.to(device), labels.to(device)\n",
    "    output = model.forward(inputs)\n",
    "    test_loss += criterion(output, labels).data\n",
    "\n",
    "    ## Calculating model accuracy on the test dataset\n",
    "    ps = torch.exp(output).data\n",
    "    equality = (labels.data == ps.max(1)[1])\n",
    "    accuracy += equality.type_as(torch.FloatTensor()).mean()\n",
    "\n",
    "print(\"Test Loss: {:.3f}.. \".format(test_loss/len(testloader)),\n",
    "      \"Test Accuracy: {:.3f}\".format((accuracy/len(testloader)*100)))"
   ]
  },
  {
   "cell_type": "markdown",
   "metadata": {},
   "source": [
    "## Saving your model\n",
    "Using `torch.save`, save your model for future loading."
   ]
  },
  {
   "cell_type": "code",
   "execution_count": 21,
   "metadata": {},
   "outputs": [],
   "source": [
    "## YOUR CODE HERE ##\n",
    "PATH = './cifar_net.pth'\n",
    "torch.save(model.state_dict(), PATH)"
   ]
  },
  {
   "cell_type": "markdown",
   "metadata": {},
   "source": [
    "## Make a Recommendation\n",
    "\n",
    "Based on your evaluation, what is your recommendation on whether to build or buy? Explain your reasoning below.\n",
    "\n",
    "Some things to consider as you formulate your recommendation:\n",
    "* How does your model compare to Detectocorp's model?\n",
    "* How does it compare to the far more advanced solutions in the literature? \n",
    "* What did you do to get the accuracy you achieved? \n",
    "* Is it necessary to improve this accuracy? If so, what sort of work would be involved in improving it?"
   ]
  },
  {
   "cell_type": "markdown",
   "metadata": {},
   "source": [
    "\n",
    "\n",
    "## **My Recommendation**\n",
    "\n",
    "- My Convolutional Neural Network (CNN) model produced an accuracy of 47.324%, which is 2.324% higher than Detectocorp's 45%. So, my model is better.\n",
    "- Compared to the more advanced solutions at the top of this notebook, my model is far less efficient since its accuracy is less that 70%. I would need to improve my model in order to better compare it with the advanced solutions from **Deep Belief Networks**, for example.\n",
    "- I started with a CNN made of two fully connected layers but the accuracy was bearly above 5%. So, I improved it to 3 layers but training with 2 epochs gave me just 25% accuracy. I then reduced the learning rate and increased the number of epochs to 10 in order to reduce overfitting and get the current 47.324% accuracy. \n",
    "- Yes, it is necessary to improve my accuracy. To do so, it would involve an deeper CNN and training on more epochs. Adding dropout layers to the CNN will also help reduce overfitting and improve the accuracy score.\n",
    "\n",
    "#### With all this said,  I would recommend building rather than buying because clearly, producing an accuracy as good as those from the advanced solutions would need a lot of man power and finances that just buying available efficient solutions that would better serve Detectocorp.\n"
   ]
  },
  {
   "cell_type": "markdown",
   "metadata": {},
   "source": [
    "## Submit Your Project\n",
    "\n",
    "When you are finished editing the notebook and are ready to turn it in, simply click the **SUBMIT PROJECT** button in the lower right.\n",
    "\n",
    "Once you submit your project, we'll review your work and give you feedback if there's anything that you need to work on. If you'd like to see the exact points that your reviewer will check for when looking at your work, you can have a look over the project [rubric](https://review.udacity.com/#!/rubrics/3077/view)."
   ]
  }
 ],
 "metadata": {
  "kernelspec": {
   "display_name": "Python 3",
   "language": "python",
   "name": "python3"
  },
  "language_info": {
   "codemirror_mode": {
    "name": "ipython",
    "version": 3
   },
   "file_extension": ".py",
   "mimetype": "text/x-python",
   "name": "python",
   "nbconvert_exporter": "python",
   "pygments_lexer": "ipython3",
   "version": "3.8.5"
  }
 },
 "nbformat": 4,
 "nbformat_minor": 4
}
